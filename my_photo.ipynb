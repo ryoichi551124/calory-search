{
 "cells": [
  {
   "cell_type": "code",
   "execution_count": 4,
   "metadata": {},
   "outputs": [],
   "source": [
    "import keras\n",
    "from keras.models import Sequential\n",
    "from keras.layers import Dense, Dropout, Flatten\n",
    "from keras.layers import Conv2D, MaxPooling2D\n",
    "from keras.optimizers import RMSprop\n",
    "import matplotlib.pyplot as plt\n",
    "import numpy as np\n",
    "from PIL import Image"
   ]
  },
  {
   "cell_type": "code",
   "execution_count": 5,
   "metadata": {},
   "outputs": [],
   "source": [
    "def def_model(in_shape, nb_classes):\n",
    "    model = Sequential()\n",
    "    model.add(Conv2D(32,\n",
    "                     kernel_size=(3, 3),\n",
    "                     activation='relu',\n",
    "                     input_shape=in_shape))\n",
    "    model.add(Conv2D(32, (3, 3), activation='relu'))\n",
    "    model.add(MaxPooling2D(pool_size=(2, 2)))\n",
    "    model.add(Dropout(0.25))\n",
    "\n",
    "    model.add(Conv2D(64, (3, 3), activation='relu'))\n",
    "    model.add(Conv2D(64, (3, 3), activation='relu'))\n",
    "    model.add(MaxPooling2D(pool_size=(2, 2)))\n",
    "    model.add(Dropout(0.25))\n",
    "\n",
    "    model.add(Flatten())\n",
    "    model.add(Dense(512, activation='relu'))\n",
    "    model.add(Dropout(0.5))\n",
    "    model.add(Dense(nb_classes, activation='softmax'))\n",
    "    return model\n",
    "\n",
    "def get_model(in_shape, nb_classes):\n",
    "    model = def_model(in_shape, nb_classes)\n",
    "    model.compile(\n",
    "        loss='categorical_crossentropy',\n",
    "        optimizer=RMSprop(),\n",
    "        metrics=['accuracy'])\n",
    "    return model"
   ]
  },
  {
   "cell_type": "code",
   "execution_count": 6,
   "metadata": {},
   "outputs": [
    {
     "data": {
      "image/png": "[encoded data removed]",
      "text/plain": [
       "<Figure size 432x288 with 1 Axes>"
      ]
     },
     "metadata": {
      "needs_background": "light"
     },
     "output_type": "display_data"
    },
    {
     "name": "stdout",
     "output_type": "stream",
     "text": [
      "この写真は、  寿司 で、カロリーは 588 kcal\n",
      "可能性は、 100 %\n"
     ]
    },
    {
     "data": {
      "image/png": "[encoded data removed]",
      "text/plain": [
       "<Figure size 432x288 with 1 Axes>"
      ]
     },
     "metadata": {
      "needs_background": "light"
     },
     "output_type": "display_data"
    },
    {
     "name": "stdout",
     "output_type": "stream",
     "text": [
      "この写真は、  サラダ で、カロリーは 118 kcal\n",
      "可能性は、 100 %\n"
     ]
    }
   ],
   "source": [
    "target_image = 'test-sushi.jpg'\n",
    "\n",
    "im_rows = 32\n",
    "im_cols = 32\n",
    "im_color = 3\n",
    "in_shape = (im_rows, im_cols, im_color)\n",
    "nb_classes = 3\n",
    "\n",
    "LABELS = ['寿司', 'サラダ', '麻婆豆腐']\n",
    "CALORIES = [588, 118, 648]\n",
    "\n",
    "model = get_model(in_shape, nb_classes)\n",
    "model.load_weights('./image/photos-model-light.hdf5')\n",
    "\n",
    "def check_photo(path):\n",
    "    img = Image.open(path)\n",
    "    img = img.convert('RGB')\n",
    "    img = img.resize((im_cols, im_rows))\n",
    "    plt.imshow(img)\n",
    "    plt.show()\n",
    "    \n",
    "    x = np.asarray(img)\n",
    "    x = x.reshape(-1, im_rows, im_cols, im_color)\n",
    "    x = x / 255\n",
    "    \n",
    "    pre = model.predict([x])[0]\n",
    "    idx = pre.argmax()\n",
    "    per = int(pre[idx] * 100)\n",
    "    return (idx, per)\n",
    "\n",
    "def check_photo_str(path):\n",
    "    idx, per = check_photo(path)\n",
    "    print('この写真は、 ', LABELS[idx], 'で、カロリーは', CALORIES[idx], 'kcal')\n",
    "    print('可能性は、', per, '%')\n",
    "    \n",
    "check_photo_str('test_sushi.jpg')\n",
    "check_photo_str('test_salad.jpg')"
   ]
  },
  {
   "cell_type": "code",
   "execution_count": null,
   "metadata": {},
   "outputs": [],
   "source": []
  },
  {
   "cell_type": "code",
   "execution_count": null,
   "metadata": {},
   "outputs": [],
   "source": []
  }
 ],
 "metadata": {
  "kernelspec": {
   "display_name": "calory-search",
   "language": "python",
   "name": "calory-search"
  },
  "language_info": {
   "codemirror_mode": {
    "name": "ipython",
    "version": 3
   },
   "file_extension": ".py",
   "mimetype": "text/x-python",
   "name": "python",
   "nbconvert_exporter": "python",
   "pygments_lexer": "ipython3",
   "version": "3.7.2"
  }
 },
 "nbformat": 4,
 "nbformat_minor": 2
}
