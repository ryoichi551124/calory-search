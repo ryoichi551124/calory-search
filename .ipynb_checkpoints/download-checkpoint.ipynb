{
 "cells": [
  {
   "cell_type": "code",
   "execution_count": 10,
   "metadata": {},
   "outputs": [],
   "source": [
    "from flickrapi import FlickrAPI\n",
    "from urllib.request import urlretrieve\n",
    "from pprint import pprint\n",
    "import os, time, sys"
   ]
  },
  {
   "cell_type": "code",
   "execution_count": null,
   "metadata": {},
   "outputs": [],
   "source": [
    "key = 'a24d8921ffd426b04ba532a2a3812738'\n",
    "secret = '4f586238af707e31'\n",
    "wait_time = 1\n",
    "\n",
    "def main():\n",
    "    go_download('マグロ寿司', 'sushi')\n",
    "    go_download('サラダ', 'salad')\n",
    "    go_download('麻婆豆腐', 'tofu')\n",
    "\n",
    "def go_download(keyword, dir):\n",
    "    savedir = './image/' + dir\n",
    "    if not os.path.exists(savedir):\n",
    "        os.mkdir(savedir)\n",
    "    \n",
    "    flicker = FlickrAPI(key, secret, format='parsed-json')\n",
    "    res = flicker.photos.search(text=keyword, per_page=300,\n",
    "                                media='photos', sort='relevance',\n",
    "                                safe_search=1, extras='url_q, license')\n",
    "    photos = res['photos']\n",
    "    pprint(photos)\n",
    "    try:\n",
    "        for i, photo in enumerate(photos['photo']):\n",
    "            url_q = photo['url_q']\n",
    "            filepath = savedir + '/' + photo['id'] + 'jpg'\n",
    "            if os.path.exists(filepath): \n",
    "                continue\n",
    "            print(str(i + 1) + ':download=', url_q)\n",
    "            urlretrieve(url_q, filepath)\n",
    "            time.sleep(wait_time)\n",
    "    except:\n",
    "        import traceback\n",
    "        traceback.print_exc()\n",
    "\n",
    "main()"
   ]
  },
  {
   "cell_type": "code",
   "execution_count": null,
   "metadata": {},
   "outputs": [],
   "source": []
  }
 ],
 "metadata": {
  "kernelspec": {
   "display_name": "calory-search",
   "language": "python",
   "name": "calory-search"
  },
  "language_info": {
   "codemirror_mode": {
    "name": "ipython",
    "version": 3
   },
   "file_extension": ".py",
   "mimetype": "text/x-python",
   "name": "python",
   "nbconvert_exporter": "python",
   "pygments_lexer": "ipython3",
   "version": "3.7.2"
  }
 },
 "nbformat": 4,
 "nbformat_minor": 4
}
